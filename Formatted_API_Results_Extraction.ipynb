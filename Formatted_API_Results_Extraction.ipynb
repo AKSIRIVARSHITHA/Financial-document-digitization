{
 "cells": [
  {
   "cell_type": "code",
   "execution_count": null,
   "metadata": {},
   "outputs": [],
   "source": [
    "!pip show azure-ai-formrecognizer"
   ]
  },
  {
   "cell_type": "code",
   "execution_count": null,
   "metadata": {},
   "outputs": [],
   "source": [
    "# import libraries\n",
    "import re\n",
    "import os\n",
    "import json\n",
    "import pandas as pd\n",
    "from azure.ai.formrecognizer import DocumentAnalysisClient\n",
    "from azure.core.credentials import AzureKeyCredential"
   ]
  },
  {
   "cell_type": "code",
   "execution_count": null,
   "metadata": {},
   "outputs": [],
   "source": [
    "file_names=['example1.pdf','example2.pdf']"
   ]
  },
  {
   "cell_type": "code",
   "execution_count": null,
   "metadata": {},
   "outputs": [],
   "source": [
    "# set `<your-endpoint>` and `<your-key>` variables with the values from the Azure portal\n",
    "endpoint = \"\"\n",
    "key = \"\""
   ]
  },
  {
   "cell_type": "markdown",
   "metadata": {},
   "source": [
    "## LAYOUT Model"
   ]
  },
  {
   "cell_type": "code",
   "execution_count": null,
   "metadata": {},
   "outputs": [],
   "source": [
    "def format_polygon(polygon):\n",
    "    if not polygon:\n",
    "        return \"N/A\"\n",
    "    return \", \".join([\"[{}, {}]\".format(p.x, p.y) for p in polygon])\n",
    "\n",
    "def analyze_layout(docpath):\n",
    "\n",
    "    endpoint = \"\"\n",
    "    key = \"\"\n",
    "    \n",
    "    document_analysis_client = DocumentAnalysisClient(\n",
    "        endpoint=endpoint, credential=AzureKeyCredential(key)\n",
    "    )\n",
    "\n",
    "    with open(docpath, \"rb\") as file:\n",
    "        file_content = file.read()\n",
    "\n",
    "    poller = document_analysis_client.begin_analyze_document(\n",
    "        \"prebuilt-layout\", file_content\n",
    "    )\n",
    "    result = poller.result()\n",
    "\n",
    "    for idx, style in enumerate(result.styles):\n",
    "        print(\n",
    "            \"Document contains {} content\".format(\n",
    "                \"handwritten\" if style.is_handwritten else \"no handwritten\"\n",
    "            )\n",
    "        )\n",
    "\n",
    "\n",
    "    for page in result.pages:\n",
    "        print(\"----Analyzing layout from page #{}----\".format(page.page_number))\n",
    "        print(\n",
    "            \"Page has width: {} and height: {}, measured with unit: {}\".format(\n",
    "                page.width, page.height, page.unit\n",
    "            )\n",
    "        )\n",
    "\n",
    "        for line_idx, line in enumerate(page.lines):\n",
    "            words = line.get_words()\n",
    "            print(\n",
    "                \"...Line # {} has word count {} and text '{}' within bounding polygon '{}'\".format(\n",
    "                    line_idx,\n",
    "                    len(words),\n",
    "                    line.content,\n",
    "                    format_polygon(line.polygon),\n",
    "                )\n",
    "            )\n",
    "\n",
    "            for word in words:\n",
    "                print(\n",
    "                    \"......Word '{}' has a confidence of {}\".format(\n",
    "                        word.content, word.confidence\n",
    "                    )\n",
    "                )\n",
    "\n",
    "        for selection_mark in page.selection_marks:\n",
    "            print(\n",
    "                \"...Selection mark is '{}' within bounding polygon '{}' and has a confidence of {}\".format(\n",
    "                    selection_mark.state,\n",
    "                    format_polygon(selection_mark.polygon),\n",
    "                    selection_mark.confidence,\n",
    "                )\n",
    "            )\n",
    "\n",
    "    for table_idx, table in enumerate(result.tables):\n",
    "        print(\n",
    "            \"Table # {} has {} rows and {} columns\".format(\n",
    "                table_idx, table.row_count, table.column_count\n",
    "            )\n",
    "        )\n",
    "        for region in table.bounding_regions:\n",
    "            print(\n",
    "                \"Table # {} location on page: {} is {}\".format(\n",
    "                    table_idx,\n",
    "                    region.page_number,\n",
    "                    format_polygon(region.polygon),\n",
    "                )\n",
    "            )\n",
    "        for cell in table.cells:\n",
    "            print(\n",
    "                \"...Cell[{}][{}] has content '{}'\".format(\n",
    "                    cell.row_index,\n",
    "                    cell.column_index,\n",
    "                    cell.content,\n",
    "                )\n",
    "            )\n",
    "            for region in cell.bounding_regions:\n",
    "                print(\n",
    "                    \"...content on page {} is within bounding polygon '{}'\".format(\n",
    "                        region.page_number,\n",
    "                        format_polygon(region.polygon),\n",
    "                    )\n",
    "                )\n",
    "\n",
    "    print(\"----------------------------------------\")\n",
    "    return result"
   ]
  },
  {
   "cell_type": "code",
   "execution_count": null,
   "metadata": {},
   "outputs": [],
   "source": [
    "for doc in file_names:\n",
    "    docpath = f'path/to/inputfiles/folder/{doc}'\n",
    "    # Model result\n",
    "    result = (analyze_layout(docpath))\n",
    "    result_dict = result.to_dict()\n",
    "    # Convert the dictionary to a JSON string\n",
    "    result_json = json.dumps(result_dict, indent=4)  # indent for pretty formatting\n",
    "    name = doc.split('.')[0]\n",
    "    file_path = f\"path/to/api_results_outputfiles/folder/layout_model_{name}.json\"\n",
    "    # Open the file in write mode and write results\n",
    "    with open(file_path, \"w\",) as file:\n",
    "            file.write(result_json)"
   ]
  },
  {
   "cell_type": "code",
   "execution_count": null,
   "metadata": {},
   "outputs": [],
   "source": []
  }
 ],
 "metadata": {
  "kernelspec": {
   "display_name": "Python 3",
   "language": "python",
   "name": "python3"
  },
  "language_info": {
   "codemirror_mode": {
    "name": "ipython",
    "version": 3
   },
   "file_extension": ".py",
   "mimetype": "text/x-python",
   "name": "python",
   "nbconvert_exporter": "python",
   "pygments_lexer": "ipython3",
   "version": "3.11.3"
  }
 },
 "nbformat": 4,
 "nbformat_minor": 2
}
